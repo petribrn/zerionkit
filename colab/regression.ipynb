{
  "nbformat": 4,
  "nbformat_minor": 0,
  "metadata": {
    "colab": {
      "provenance": [],
      "gpuType": "T4"
    },
    "kernelspec": {
      "name": "python3",
      "display_name": "Python 3"
    },
    "language_info": {
      "name": "python"
    },
    "accelerator": "GPU"
  },
  "cells": [
    {
      "cell_type": "markdown",
      "source": [
        "#### Configuração do ambiente\n",
        "O passo inicial é preparar o ambiente do Google Colab para que ele tenha acesso a todos os módulos e arquivos do nosso projeto. Para garantir a praticidade e o uso da versão mais atualizada do código, optamos por clonar o repositório diretamente do GitHub.\n"
      ],
      "metadata": {
        "id": "26SlkJ_fJgZ0"
      }
    },
    {
      "cell_type": "markdown",
      "source": [
        "* **1. Clonagem do repositório:** utilizamos o comando `!git clone`. Este comando baixa uma cópia completa e privada do nosso projeto (`zerionkit`) para o ambiente de execução temporário do Colab. O acesso é feito de forma segura utilizando um *Personal Access Token (PAT)* do GitHub."
      ],
      "metadata": {
        "id": "syEkZstw1BW1"
      }
    },
    {
      "cell_type": "code",
      "execution_count": null,
      "metadata": {
        "id": "I9KQEPt4qzKz",
        "colab": {
          "base_uri": "https://localhost:8080/"
        },
        "outputId": "2fc5a4ad-7e77-43d1-db54-89ba33eaed33",
        "collapsed": true
      },
      "outputs": [
        {
          "output_type": "stream",
          "name": "stdout",
          "text": [
            "Cloning into 'zerionkit'...\n",
            "remote: Enumerating objects: 255, done.\u001b[K\n",
            "remote: Counting objects: 100% (27/27), done.\u001b[K\n",
            "remote: Compressing objects: 100% (27/27), done.\u001b[K\n",
            "remote: Total 255 (delta 0), reused 0 (delta 0), pack-reused 228 (from 1)\u001b[K\n",
            "Receiving objects: 100% (255/255), 1.33 MiB | 16.23 MiB/s, done.\n",
            "Resolving deltas: 100% (126/126), done.\n"
          ]
        }
      ],
      "source": [
        "!git clone https://github.com/petribrn/zerionkit"
      ]
    },
    {
      "cell_type": "markdown",
      "source": [
        "* **2. Mudança de diretório:** este comando muda o diretório de trabalho atual para dentro da pasta do projeto clonado. Isso garante que quaisquer caminhos de arquivo relativos funcionem corretamente.\n"
      ],
      "metadata": {
        "id": "KYKvYJgWz_bW"
      }
    },
    {
      "cell_type": "code",
      "source": [
        "%cd /content/zerionkit/"
      ],
      "metadata": {
        "colab": {
          "base_uri": "https://localhost:8080/"
        },
        "id": "8JvKssLsF4Ja",
        "outputId": "ec0712e7-817b-48d6-92a5-8da585ecf835",
        "collapsed": true
      },
      "execution_count": null,
      "outputs": [
        {
          "output_type": "stream",
          "name": "stdout",
          "text": [
            "/content/zerionkit\n"
          ]
        }
      ]
    },
    {
      "cell_type": "markdown",
      "source": [
        "* **3. Adição ao `sys.path` do python:** informa ao interpretador python onde encontrar nossos módulos customizados.\n"
      ],
      "metadata": {
        "id": "6xBMZwUMVNYm"
      }
    },
    {
      "cell_type": "code",
      "source": [
        "import sys\n",
        "\n",
        "project_path = '/content/zerionkit/'\n",
        "\n",
        "sys.path.append(project_path)"
      ],
      "metadata": {
        "id": "oyeATNarOh6t"
      },
      "execution_count": null,
      "outputs": []
    },
    {
      "cell_type": "markdown",
      "source": [
        "* **4. Importações:** importamos toda as bibliotecas e classes necessárias para a execução do notebook."
      ],
      "metadata": {
        "id": "-fL-f3DjrCrx"
      }
    },
    {
      "cell_type": "code",
      "source": [
        "import pandas as pd\n",
        "import numpy as np\n",
        "import matplotlib.pyplot as plt\n",
        "\n",
        "from sklearn.model_selection import train_test_split\n",
        "from sklearn.preprocessing import StandardScaler\n",
        "\n",
        "from src.zerion_nn import ZerionNN\n",
        "from src.layer import Layer\n",
        "from src.data_handler import DataHandler\n",
        "from src.loss import Loss\n",
        "\n",
        "print(\"Módulos importados com sucesso!\")"
      ],
      "metadata": {
        "colab": {
          "base_uri": "https://localhost:8080/"
        },
        "id": "NHjWe1gUrNLN",
        "outputId": "2dba2e3f-2575-4256-bba1-043cdfdac6ef"
      },
      "execution_count": null,
      "outputs": [
        {
          "output_type": "stream",
          "name": "stdout",
          "text": [
            "Módulos importados com sucesso!\n"
          ]
        }
      ]
    },
    {
      "cell_type": "markdown",
      "source": [
        "####Carregamento e Preparação dos Dados\n",
        "Utilizamos nossa classe `DataHandler` para carregar o dataset, dividi-lo em conjuntos de treino e validação, e realizar o pré-processamento necessário. O conjunto de dados de teste será carregado apenas na etapa final."
      ],
      "metadata": {
        "id": "bvV7gpvwsHP2"
      }
    },
    {
      "cell_type": "code",
      "source": [
        "training_data_handler = DataHandler(\n",
        "        dataset_type='training',\n",
        "        problem_type='regression',\n",
        "        dataset_name='bike',\n",
        "        y_target_columns='cnt',\n",
        "    )\n",
        "training_inputs, training_y_targets = training_data_handler.processed_data\n",
        "\n",
        "validation_data_handler = DataHandler(\n",
        "        dataset_type='validation',\n",
        "        problem_type='regression',\n",
        "        dataset_name='bike',\n",
        "        y_target_columns='cnt',\n",
        "    )\n",
        "validation_inputs, validation_y_targets = validation_data_handler.processed_data\n",
        "\n",
        "print(\"Dados carregados com sucesso!\")"
      ],
      "metadata": {
        "id": "fc64uSQassZI",
        "colab": {
          "base_uri": "https://localhost:8080/"
        },
        "outputId": "2159a632-342b-466f-dbeb-52589d7b5a53"
      },
      "execution_count": null,
      "outputs": [
        {
          "output_type": "stream",
          "name": "stdout",
          "text": [
            "Dados carregados com sucesso!\n"
          ]
        }
      ]
    },
    {
      "cell_type": "markdown",
      "source": [
        "####Definição e instanciação do modelo\n",
        "\n",
        "Definimos a arquitetura da nossa rede neural (número de camadas, neurônios e funções de ativação) e outros hiperparâmetros como a taxa de aprendizado e o número de épocas."
      ],
      "metadata": {
        "id": "nCBF5CJoziPp"
      }
    },
    {
      "cell_type": "code",
      "source": [
        "neural_network = ZerionNN(\n",
        "        problem_type='regression',\n",
        "        layers=[\n",
        "            Layer(size=len(training_inputs[0]), activation='linear'),\n",
        "            Layer(size=8, activation='relu'),\n",
        "            Layer(size=len(training_y_targets.keys()), activation='linear'),\n",
        "        ],\n",
        "        loss='square_error',\n",
        "        learning_rate=0.001,\n",
        "        epochs=10,\n",
        "    )\n",
        "\n",
        "print(\"Rede neural criada com sucesso\")"
      ],
      "metadata": {
        "colab": {
          "base_uri": "https://localhost:8080/"
        },
        "id": "p4RxVYvE1zHv",
        "outputId": "ef76b334-e8e8-4d8b-ae18-20c2d06e5180"
      },
      "execution_count": null,
      "outputs": [
        {
          "output_type": "stream",
          "name": "stdout",
          "text": [
            "Rede neural criada com sucesso\n"
          ]
        }
      ]
    },
    {
      "cell_type": "markdown",
      "source": [
        "#### Treinamento do modelo\n",
        "Treinamos o modelo apenas com o conjunto de dados de treino, utilizando o método `.train()`.\n",
        "\n"
      ],
      "metadata": {
        "id": "soSYU6vY4JM0"
      }
    },
    {
      "cell_type": "code",
      "source": [
        "metrics = neural_network.train(\n",
        "        inputs=training_inputs,\n",
        "        y_targets=training_y_targets,\n",
        "    )"
      ],
      "metadata": {
        "id": "wLthnwlL4iA7"
      },
      "execution_count": null,
      "outputs": []
    },
    {
      "cell_type": "markdown",
      "source": [
        "#### Desempenho do modelo\n",
        "Analisamos o desempenho do modelo que acabamos de treinar. Primeiro, visualizamos a curva de aprendizado para garantir que o treinamento ocorreu de forma estável. Em seguida, avaliamos a performance do modelo nos conjuntos de validação e teste para medir sua capacidade de generalização em dados novos.\n"
      ],
      "metadata": {
        "id": "yDiCzn7NInOY"
      }
    },
    {
      "cell_type": "markdown",
      "source": [
        "* **1. Gráfico da curva de aprendizado:** plotamos o erro e a acurácia do treinamento ao longo das épocas, mostrando como o modelo aprendeu."
      ],
      "metadata": {
        "id": "uTmdqtvS6QbO"
      }
    },
    {
      "cell_type": "code",
      "source": [
        "errors = metrics['errors']\n",
        "accuracies = metrics['accuracies']\n",
        "epochs_range = range(len(errors))\n",
        "\n",
        "# Criar uma figura com dois subplots\n",
        "fig, (ax1, ax2) = plt.subplots(2, 1, figsize=(12, 10), sharex=True)\n",
        "\n",
        "# Plotar Erro de Treinamento\n",
        "ax1.plot(epochs_range, errors, 'r-', label='Training Error (Loss)')\n",
        "ax1.set_ylabel('Error (Loss)')\n",
        "ax1.set_title('Training Error and Accuracy Over Epochs')\n",
        "ax1.grid(True)\n",
        "ax1.legend()\n",
        "\n",
        "# Plotar Acurácia de Treinamento\n",
        "ax2.plot(epochs_range, accuracies, 'b-', label='Training Accuracy')\n",
        "ax2.set_xlabel('Epoch')\n",
        "ax2.set_ylabel('Accuracy (%)')\n",
        "ax2.grid(True)\n",
        "ax2.legend()\n",
        "\n",
        "plt.show()"
      ],
      "metadata": {
        "id": "L9HV0l-syNdH"
      },
      "execution_count": null,
      "outputs": []
    },
    {
      "cell_type": "markdown",
      "source": [
        "* **2. Avaliação nos dados de validação:** usamos o método `.evaluate()` para obter as métricas finais no conjunto de validação.\n"
      ],
      "metadata": {
        "id": "AXjUdZd4_l2W"
      }
    },
    {
      "cell_type": "code",
      "source": [
        "neural_network.evaluate(\n",
        "        inputs=validation_inputs,\n",
        "        y_targets=validation_y_targets,\n",
        "        y_scaler=validation_data_handler.y_scaler,\n",
        "    )"
      ],
      "metadata": {
        "id": "7xKQ3fvo_p12"
      },
      "execution_count": null,
      "outputs": []
    },
    {
      "cell_type": "markdown",
      "source": [
        "* **3. Avaliação nos dados de teste:** carregamos e preparamos o conjunto de dados de teste. Também, usamos o método `.evaluate()` para obter as métricas finais no conjunto de teste."
      ],
      "metadata": {
        "id": "hp5I3uGp_sVy"
      }
    },
    {
      "cell_type": "code",
      "source": [
        "test_data_handler = DataHandler(\n",
        "        dataset_type='test',\n",
        "        problem_type='regression',\n",
        "        dataset_name='bike',\n",
        "        y_target_columns='cnt',\n",
        "    )\n",
        "test_inputs, test_y_targets = test_data_handler.processed_data\n",
        "\n",
        "neural_network.evaluate(\n",
        "    inputs=test_inputs,\n",
        "    y_targets=test_y_targets,\n",
        "    y_scaler=test_data_handler.y_scaler,\n",
        ")"
      ],
      "metadata": {
        "id": "M6AKtV3R_vKw"
      },
      "execution_count": null,
      "outputs": []
    }
  ]
}