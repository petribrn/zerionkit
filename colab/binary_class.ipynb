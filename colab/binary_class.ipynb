{
  "nbformat": 4,
  "nbformat_minor": 0,
  "metadata": {
    "colab": {
      "provenance": [],
      "gpuType": "T4",
      "collapsed_sections": [
        "26SlkJ_fJgZ0",
        "bvV7gpvwsHP2",
        "nCBF5CJoziPp",
        "soSYU6vY4JM0"
      ]
    },
    "kernelspec": {
      "name": "python3",
      "display_name": "Python 3"
    },
    "language_info": {
      "name": "python"
    },
    "accelerator": "GPU"
  },
  "cells": [
    {
      "cell_type": "markdown",
      "source": [
        "#### Configuração do ambiente\n",
        "O passo inicial é preparar o ambiente do Google Colab para que ele tenha acesso a todos os módulos e arquivos do nosso projeto. Para garantir a praticidade e o uso da versão mais atualizada do código, optamos por clonar o repositório diretamente do GitHub.\n"
      ],
      "metadata": {
        "id": "26SlkJ_fJgZ0"
      }
    },
    {
      "cell_type": "markdown",
      "source": [
        "* **1. Clonagem do repositório:** utilizamos o comando `!git clone`. Este comando baixa uma cópia completa e privada do nosso projeto (`zerionkit`) para o ambiente de execução temporário do Colab. O acesso é feito de forma segura utilizando um *Personal Access Token (PAT)* do GitHub."
      ],
      "metadata": {
        "id": "syEkZstw1BW1"
      }
    },
    {
      "cell_type": "code",
      "execution_count": null,
      "metadata": {
        "id": "I9KQEPt4qzKz",
        "colab": {
          "base_uri": "https://localhost:8080/"
        },
        "outputId": "a142bdeb-e9ce-4f12-fc28-7f0b1db8de15",
        "collapsed": true
      },
      "outputs": [
        {
          "output_type": "stream",
          "name": "stdout",
          "text": [
            "Cloning into 'zerionkit'...\n",
            "remote: Enumerating objects: 288, done.\u001b[K\n",
            "remote: Counting objects: 100% (60/60), done.\u001b[K\n",
            "remote: Compressing objects: 100% (49/49), done.\u001b[K\n",
            "remote: Total 288 (delta 18), reused 23 (delta 11), pack-reused 228 (from 1)\u001b[K\n",
            "Receiving objects: 100% (288/288), 1.34 MiB | 4.28 MiB/s, done.\n",
            "Resolving deltas: 100% (144/144), done.\n"
          ]
        }
      ],
      "source": [
        "!git clone https://github.com/petribrn/zerionkit.git"
      ]
    },
    {
      "cell_type": "markdown",
      "source": [
        "* **2. Mudança de diretório:** este comando muda o diretório de trabalho atual para dentro da pasta do projeto clonado. Isso garante que quaisquer caminhos de arquivo relativos funcionem corretamente.\n"
      ],
      "metadata": {
        "id": "KYKvYJgWz_bW"
      }
    },
    {
      "cell_type": "code",
      "source": [
        "%cd /content/zerionkit/"
      ],
      "metadata": {
        "colab": {
          "base_uri": "https://localhost:8080/"
        },
        "id": "8JvKssLsF4Ja",
        "outputId": "3e4a69a8-a28e-4de8-c2c7-98f371a6e736",
        "collapsed": true
      },
      "execution_count": null,
      "outputs": [
        {
          "output_type": "stream",
          "name": "stdout",
          "text": [
            "/content/zerionkit\n"
          ]
        }
      ]
    },
    {
      "cell_type": "markdown",
      "source": [
        "* **3. Adição ao `sys.path` do python:** informa ao interpretador python onde encontrar nossos módulos customizados.\n"
      ],
      "metadata": {
        "id": "6xBMZwUMVNYm"
      }
    },
    {
      "cell_type": "code",
      "source": [
        "import sys\n",
        "\n",
        "project_path = '/content/zerionkit/'\n",
        "\n",
        "sys.path.append(project_path)"
      ],
      "metadata": {
        "id": "oyeATNarOh6t"
      },
      "execution_count": null,
      "outputs": []
    },
    {
      "cell_type": "markdown",
      "source": [
        "* **4. Importações:** importamos toda as bibliotecas e classes necessárias para a execução do notebook."
      ],
      "metadata": {
        "id": "-fL-f3DjrCrx"
      }
    },
    {
      "cell_type": "code",
      "source": [
        "import pandas as pd\n",
        "import numpy as np\n",
        "import matplotlib.pyplot as plt\n",
        "\n",
        "from sklearn.model_selection import train_test_split\n",
        "from sklearn.preprocessing import StandardScaler\n",
        "\n",
        "from src.zerion_nn import ZerionNN\n",
        "from src.layer import Layer\n",
        "from src.data_handler import DataHandler\n",
        "from src.loss import Loss\n",
        "\n",
        "print(\"Módulos importados com sucesso!\")"
      ],
      "metadata": {
        "colab": {
          "base_uri": "https://localhost:8080/"
        },
        "id": "NHjWe1gUrNLN",
        "outputId": "cf8a6e13-6362-40c1-f577-13429ef3c4b6"
      },
      "execution_count": null,
      "outputs": [
        {
          "output_type": "stream",
          "name": "stdout",
          "text": [
            "Módulos importados com sucesso!\n"
          ]
        }
      ]
    },
    {
      "cell_type": "markdown",
      "source": [
        "####Carregamento e Preparação dos Dados\n",
        "Utilizamos nossa classe `DataHandler` para carregar o dataset, dividi-lo em conjuntos de treino e validação, e realizar o pré-processamento necessário. O conjunto de dados de teste será carregado apenas na etapa final."
      ],
      "metadata": {
        "id": "bvV7gpvwsHP2"
      }
    },
    {
      "cell_type": "code",
      "source": [
        "training_data_handler = DataHandler(\n",
        "        dataset_type='training',\n",
        "        problem_type='binary_class',\n",
        "        dataset_name='mushroom',\n",
        "        y_target_columns='poisonous',\n",
        "    )\n",
        "training_inputs, training_y_targets = training_data_handler.processed_data\n",
        "\n",
        "validation_data_handler = DataHandler(\n",
        "        dataset_type='validation',\n",
        "        problem_type='binary_class',\n",
        "        dataset_name='mushroom',\n",
        "        y_target_columns='poisonous',\n",
        "    )\n",
        "validation_inputs, validation_y_targets = validation_data_handler.processed_data\n",
        "\n",
        "print(\"Dados carregados com sucesso!\")"
      ],
      "metadata": {
        "id": "fc64uSQassZI",
        "colab": {
          "base_uri": "https://localhost:8080/"
        },
        "outputId": "19d452bd-30ef-4ee3-d9b2-e4599eeb31b6"
      },
      "execution_count": null,
      "outputs": [
        {
          "output_type": "stream",
          "name": "stdout",
          "text": [
            "Dados carregados com sucesso!\n"
          ]
        }
      ]
    },
    {
      "cell_type": "markdown",
      "source": [
        "####Definição e instanciação do modelo\n",
        "\n",
        "Definimos a arquitetura da nossa rede neural (número de camadas, neurônios e funções de ativação) e outros hiperparâmetros como a taxa de aprendizado e o número de épocas."
      ],
      "metadata": {
        "id": "nCBF5CJoziPp"
      }
    },
    {
      "cell_type": "code",
      "source": [
        "neural_network = ZerionNN(\n",
        "        problem_type='binary_class',\n",
        "        layers=[\n",
        "            Layer(size=len(training_inputs[0]), activation='sigmoid'),\n",
        "            Layer(size=4, activation='relu'),\n",
        "            Layer(size=8, activation='relu'),\n",
        "            Layer(size=len(training_y_targets.keys()), activation='sigmoid'),\n",
        "        ],\n",
        "        loss='binary_cross_entropy',\n",
        "        learning_rate=0.01,\n",
        "        epochs=100,\n",
        "    )\n",
        "print(\"Rede neural criada com sucesso\")"
      ],
      "metadata": {
        "colab": {
          "base_uri": "https://localhost:8080/"
        },
        "id": "p4RxVYvE1zHv",
        "outputId": "d89c77a7-94ac-4409-8e60-0984bcd11535"
      },
      "execution_count": null,
      "outputs": [
        {
          "output_type": "stream",
          "name": "stdout",
          "text": [
            "Rede neural criada com sucesso\n"
          ]
        }
      ]
    },
    {
      "cell_type": "markdown",
      "source": [
        "#### Treinamento do modelo\n",
        "Treinamos o modelo apenas com o conjunto de dados de treino, utilizando o método `.train()`."
      ],
      "metadata": {
        "id": "soSYU6vY4JM0"
      }
    },
    {
      "cell_type": "code",
      "source": [
        "metrics = neural_network.train(\n",
        "        inputs=training_inputs,\n",
        "        y_targets=training_y_targets,\n",
        "    )"
      ],
      "metadata": {
        "id": "wLthnwlL4iA7",
        "colab": {
          "base_uri": "https://localhost:8080/"
        },
        "outputId": "21442854-a1cf-4f45-a501-9862b45da44e"
      },
      "execution_count": null,
      "outputs": [
        {
          "output_type": "stream",
          "name": "stdout",
          "text": [
            "[Epoch 0] Error: 0.7360586103995927| Accuracy: 83.18907482208117%\n",
            "[Epoch 1] Error: 0.38445551765325786| Accuracy: 90.44046932102327%\n"
          ]
        }
      ]
    },
    {
      "cell_type": "markdown",
      "source": [
        "#### Desempenho do modelo\n",
        "Analisamos o desempenho do modelo que acabamos de treinar. Primeiro, visualizamos a curva de aprendizado para garantir que o treinamento ocorreu de forma estável. Em seguida, avaliamos a performance do modelo nos conjuntos de validação e teste para medir sua capacidade de generalização em dados novos.\n"
      ],
      "metadata": {
        "id": "yDiCzn7NInOY"
      }
    },
    {
      "cell_type": "markdown",
      "source": [
        "* **1. Gráfico da curva de aprendizado:** plotamos o erro e a acurácia do treinamento ao longo das épocas, mostrando como o modelo aprendeu."
      ],
      "metadata": {
        "id": "uTmdqtvS6QbO"
      }
    },
    {
      "cell_type": "code",
      "source": [
        "errors = metrics['errors']\n",
        "accuracies = metrics['accuracies']\n",
        "epochs_range = range(len(errors))\n",
        "\n",
        "# Criar uma figura com dois subplots\n",
        "fig, (ax1, ax2) = plt.subplots(2, 1, figsize=(12, 10), sharex=True)\n",
        "\n",
        "# Plotar Erro de Treinamento\n",
        "ax1.plot(epochs_range, errors, 'r-', label='Training Error (Loss)')\n",
        "ax1.set_ylabel('Error (Loss)')\n",
        "ax1.set_title('Training Error and Accuracy Over Epochs')\n",
        "ax1.grid(True)\n",
        "ax1.legend()\n",
        "\n",
        "# Plotar Acurácia de Treinamento\n",
        "ax2.plot(epochs_range, accuracies, 'b-', label='Training Accuracy')\n",
        "ax2.set_xlabel('Epoch')\n",
        "ax2.set_ylabel('Accuracy (%)')\n",
        "ax2.grid(True)\n",
        "ax2.legend()\n",
        "\n",
        "plt.show()"
      ],
      "metadata": {
        "id": "L9HV0l-syNdH",
        "colab": {
          "base_uri": "https://localhost:8080/",
          "height": 872
        },
        "outputId": "d8356417-2361-4c49-c6e3-1fd7c4d33de3"
      },
      "execution_count": null,
      "outputs": [
        {
          "output_type": "display_data",
          "data": {
            "text/plain": [
              "<Figure size 1200x1000 with 2 Axes>"
            ],
            "image/png": "[encoded data removed]"
          },
          "metadata": {}
        }
      ]
    },
    {
      "cell_type": "markdown",
      "source": [
        "* **2. Avaliação nos dados de validação:** usamos o método `.evaluate()` para obter as métricas finais no conjunto de validação.\n",
        "\n"
      ],
      "metadata": {
        "id": "ZM3LWK9l9Lv9"
      }
    },
    {
      "cell_type": "code",
      "source": [
        "neural_network.evaluate(\n",
        "        inputs=validation_inputs,\n",
        "        y_targets=validation_y_targets,\n",
        "        y_scaler=validation_data_handler.y_scaler,\n",
        "    )"
      ],
      "metadata": {
        "id": "TWoTeMW_9f57",
        "colab": {
          "base_uri": "https://localhost:8080/"
        },
        "outputId": "fb99ded9-9111-4676-800d-382ccaaf9d31"
      },
      "execution_count": null,
      "outputs": [
        {
          "output_type": "stream",
          "name": "stdout",
          "text": [
            "\n",
            "--- Evaluation Results ---\n",
            "Accuracy: 66.15384615384615%\n",
            "Correct Predictions: 860/1300\n"
          ]
        },
        {
          "output_type": "execute_result",
          "data": {
            "text/plain": [
              "{'accuracy': 66.15384615384615,\n",
              " 'total_samples': 1300,\n",
              " 'correct_predictions': 860}"
            ]
          },
          "metadata": {},
          "execution_count": 13
        }
      ]
    },
    {
      "cell_type": "markdown",
      "source": [
        "* **3. Avaliação nos dados de teste:** carregamos e preparamos o conjunto de dados de teste. Também, usamos o método `.evaluate()` para obter as métricas finais no conjunto de teste."
      ],
      "metadata": {
        "id": "ypcq9g5C9m2Y"
      }
    },
    {
      "cell_type": "code",
      "source": [
        "test_data_handler = DataHandler(\n",
        "        dataset_type='test',\n",
        "        problem_type='binary_class',\n",
        "        dataset_name='mushroom',\n",
        "        y_target_columns='poisonous',\n",
        "    )\n",
        "test_inputs, test_y_targets = test_data_handler.processed_data\n",
        "\n",
        "neural_network.evaluate(\n",
        "        inputs=test_inputs,\n",
        "        y_targets=test_y_targets,\n",
        "        y_scaler=test_data_handler.y_scaler,\n",
        "    )"
      ],
      "metadata": {
        "id": "oOKSG2Km91xE",
        "colab": {
          "base_uri": "https://localhost:8080/"
        },
        "outputId": "68899211-8dda-49b9-c0ce-24cbce7a0979"
      },
      "execution_count": null,
      "outputs": [
        {
          "output_type": "stream",
          "name": "stdout",
          "text": [
            "\n",
            "--- Evaluation Results ---\n",
            "Accuracy: 53.169230769230765%\n",
            "Correct Predictions: 864/1625\n"
          ]
        },
        {
          "output_type": "execute_result",
          "data": {
            "text/plain": [
              "{'accuracy': 53.169230769230765,\n",
              " 'total_samples': 1625,\n",
              " 'correct_predictions': 864}"
            ]
          },
          "metadata": {},
          "execution_count": 15
        }
      ]
    }
  ]
}